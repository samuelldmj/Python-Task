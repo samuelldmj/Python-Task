{
 "cells": [
  {
   "cell_type": "markdown",
   "metadata": {},
   "source": [
    "#*Task 1*"
   ]
  },
  {
   "cell_type": "code",
   "execution_count": null,
   "metadata": {},
   "outputs": [],
   "source": [
    "#Grade Calculator:\n",
    "   # Create a program that takes a list of student grades as input.\n",
    "#  Use a loop to calculate and display the average grade. \n",
    "# Then, use if-elif statements to assign a letter grade (A, B, C, etc.) based on the average."
   ]
  },
  {
   "cell_type": "code",
   "execution_count": 8,
   "metadata": {},
   "outputs": [
    {
     "name": "stdout",
     "output_type": "stream",
     "text": [
      "155\n",
      "The average of the numbers you entered is:  38.75\n",
      "You failed\n"
     ]
    }
   ],
   "source": [
    "#solution\n",
    "#receive list from user\n",
    "list_to_add = input('Input a list of numbers separated by comma then space: ')\n",
    "try:\n",
    "    #split the user input by spaces\n",
    "    list_to_add = list_to_add.split(', ')\n",
    "    list_sum = 0\n",
    " \n",
    "    #using for loop to iterate over the inputted value and then adding them\n",
    "    for number in list_to_add:\n",
    "        list_sum = int(number) + list_sum\n",
    "\n",
    "    #calculate the average\n",
    "    list_avg = list_sum / len(list_to_add)\n",
    "    print('The average of the numbers you entered is: ', list_avg)\n",
    "\n",
    "    # outputting the grades\n",
    "    if list_avg >= 70 and list_avg <= 100:\n",
    "        print('A')\n",
    "    elif list_avg >= 60 and list_avg <= 69:\n",
    "        print('B')\n",
    "    elif list_avg >= 50 and list_avg <= 59:\n",
    "        print('C')\n",
    "    elif list_avg >= 40 and list_avg <= 49:\n",
    "        print('D')\n",
    "    else:\n",
    "        print('You failed')\n",
    "\n",
    "except ValueError:\n",
    "    print('Please enter a list of number separated by a comma and space only')\n",
    "\n",
    "    "
   ]
  },
  {
   "cell_type": "markdown",
   "metadata": {},
   "source": [
    "#Task 2"
   ]
  },
  {
   "cell_type": "code",
   "execution_count": null,
   "metadata": {},
   "outputs": [],
   "source": [
    "# Number Analysis:\n",
    "# Write a program that takes a list of numbers as input. \n",
    "# Use a loop to find and display the sum, average, maximum, and minimum of the numbers."
   ]
  },
  {
   "cell_type": "code",
   "execution_count": 13,
   "metadata": {},
   "outputs": [
    {
     "name": "stdout",
     "output_type": "stream",
     "text": [
      "271\n",
      "The average of the list of numbers you entered is:  67.75\n",
      "The maximum value of the list numbers you entered is:  88\n",
      "The minimum value of the list numbers you entered is:  50\n"
     ]
    }
   ],
   "source": [
    "#solution\n",
    "list_of_nom = input('Input a list of numbers separated by comma then space: ')\n",
    "try:\n",
    "    #split the user input by spaces\n",
    "    list_of_nom = list_of_nom.split(', ')\n",
    "    list_count = 0\n",
    " \n",
    "    #using for loop to iterate over the inputted value and then adding them\n",
    "    for number in list_of_nom:\n",
    "        list_count = int(number) + list_count\n",
    "    print(list_count)\n",
    "\n",
    "    #calculate the average\n",
    "    list_avg = list_count / len(list_of_nom)\n",
    "    print('The average of the list of numbers you entered is: ', list_avg)\n",
    "\n",
    "    #finding the maximum number\n",
    "    list_max = max(list_of_nom)\n",
    "    print('The maximum value of the list numbers you entered is: ', list_max)\n",
    "\n",
    "    #finding the minimum number\n",
    "    list_min = min(list_of_nom)\n",
    "    print('The minimum value of the list numbers you entered is: ', list_min)\n",
    "except ValueError:\n",
    "    print(\"You have entered an invalid value\")\n"
   ]
  },
  {
   "cell_type": "markdown",
   "metadata": {},
   "source": [
    "#TASK 3\n"
   ]
  },
  {
   "cell_type": "code",
   "execution_count": null,
   "metadata": {},
   "outputs": [],
   "source": [
    "#  <!-- 3.Even or Odd:\n",
    "#  Write a program that takes an array of numbers as input.\n",
    "#  Use a loop and if-elif statements to classify each number as even or odd.\n",
    "#  Display the counts of even and odd numbers. -->"
   ]
  },
  {
   "cell_type": "code",
   "execution_count": 24,
   "metadata": {},
   "outputs": [
    {
     "name": "stdout",
     "output_type": "stream",
     "text": [
      "Even numbers in the list:  3\n",
      "Odd numbers in the list:  1\n"
     ]
    }
   ],
   "source": [
    "# list of numbers\n",
    "list1 = [12, 11, 4, 25, 56, 33, 1]\n",
    " \n",
    "even_count, odd_count = 0, 0\n",
    " \n",
    "# iterating each number in list\n",
    "for num in list1:\n",
    " \n",
    "    # checking condition\n",
    "    if num % 2 == 0:\n",
    "        even_count += 1\n",
    " \n",
    "    elif num % 3 == 0:\n",
    "        odd_count += 1\n",
    " \n",
    "print(\"Even numbers in the list: \", even_count)\n",
    "print(\"Odd numbers in the list: \", odd_count)\n",
    "    "
   ]
  },
  {
   "cell_type": "markdown",
   "metadata": {},
   "source": [
    "#TASK"
   ]
  },
  {
   "cell_type": "code",
   "execution_count": null,
   "metadata": {},
   "outputs": [],
   "source": [
    "# 4. Menu-driven Calculator:\n",
    "# Develop a simple calculator that performs addition,\n",
    "# subtraction, multiplication, and division. \n",
    "# Use a loop to continuously prompt the user for input and perform calculations until they choose to exit."
   ]
  },
  {
   "cell_type": "code",
   "execution_count": 5,
   "metadata": {},
   "outputs": [
    {
     "name": "stdout",
     "output_type": "stream",
     "text": [
      "Error: Improper numbers used. Please try again.\n"
     ]
    }
   ],
   "source": [
    "#ask user for calculation to be performed\n",
    "operation = input( \"You can only add, sub, multiply and divide  \").lower()\n",
    "\n",
    "try:\n",
    "    while True:\n",
    "        #quit operation\n",
    "        if operation == \"quit\":\n",
    "            break    \n",
    "    \n",
    "\n",
    "        #you will need to enter 2 value to be calculated \n",
    "        val_1 = input( \"What is the first number? \")\n",
    "        val_2 = input( \"What is the second number? \")\n",
    "\n",
    "        #converting value to decimal\n",
    "        val_1, val_2 = float(val_1), float(val_2)\n",
    "\n",
    "        if operation == \"add\":\n",
    "            result = val_1 + val_2\n",
    "            print( f\"{val_1} + {val_2} = {result }\" )\n",
    "    \n",
    "        elif operation == \"sub\":\n",
    "            result = val_1 - val_2\n",
    "            print( f\"{val_1} - {val_2} = {result }\" )\n",
    "\n",
    "        elif operation == \"mulitiply\":\n",
    "            result = val_1 * val_2\n",
    "            print( f\"{val_1} * {val_2} = {result }\" )\n",
    "\n",
    "        elif operation == \"division\":\n",
    "            result = val_1 / val_2\n",
    "            print( f\"{val_1} / {val_2} = {result }\" )\n",
    "            break\n",
    "        else:\n",
    "            # else will be hit if they didn't chose an option correctly\n",
    "            print(f\"Sorry, but '{ operation}' is not an option.\")\n",
    "\n",
    "except ValueError:\n",
    "# steb 3c: print error\n",
    "    print(\"Error: Improper numbers used. Please try again.\")\n",
    "  \n",
    "\n",
    "\n",
    "\n",
    "   \n",
    "\n",
    "\n",
    "\n"
   ]
  }
 ],
 "metadata": {
  "kernelspec": {
   "display_name": "Python 3",
   "language": "python",
   "name": "python3"
  },
  "language_info": {
   "codemirror_mode": {
    "name": "ipython",
    "version": 3
   },
   "file_extension": ".py",
   "mimetype": "text/x-python",
   "name": "python",
   "nbconvert_exporter": "python",
   "pygments_lexer": "ipython3",
   "version": "3.10.4"
  }
 },
 "nbformat": 4,
 "nbformat_minor": 2
}
